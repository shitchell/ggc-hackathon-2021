{
 "cells": [
  {
   "cell_type": "markdown",
   "id": "a81a4bfe",
   "metadata": {},
   "source": [
    "## Jupyter Notebook \n",
    "Jupyter Notebook  is a popular way to write and run Python code, especially for data analysis, data science and machine learning.\n",
    "\n",
    "Jupyter Notebooks are easy-to-use because they let you execute code and review the output quickly. is a popular way to write and run Python code, especially for data analysis, data science and machine learning.\n",
    "\n",
    "Jupyter Notebooks are easy-to-use because they let you execute code and review the output quickly."
   ]
  },
  {
   "cell_type": "markdown",
   "id": "ee1d1002",
   "metadata": {},
   "source": [
    "# Data types in Python:\n",
    "\n",
    "There are 4 built-in data types in Python and they used to store collections of data:\n",
    "1. Tuple\n",
    "2. Sets\n",
    "3. Dictionary\n",
    "4. List\n",
    "\n",
    "###  How to Create List?\n",
    "Lists are mainly used to store multiple items in a single variable.To create Lists in Python, place the sequence inside the square brackets [ ]."
   ]
  },
  {
   "cell_type": "code",
   "execution_count": 49,
   "id": "e11a9e95",
   "metadata": {},
   "outputs": [
    {
     "name": "stdout",
     "output_type": "stream",
     "text": [
      "[10, 20, 14]\n"
     ]
    }
   ],
   "source": [
    "# Creating a List of numbers\n",
    "List = [10, 20, 14]\n",
    "print(List) # or type List "
   ]
  },
  {
   "cell_type": "code",
   "execution_count": 50,
   "id": "12fa90d3",
   "metadata": {},
   "outputs": [
    {
     "name": "stdout",
     "output_type": "stream",
     "text": [
      "['Hackathon', 'GGC', 2021, 'SST', 'Mathematics']\n"
     ]
    }
   ],
   "source": [
    "# Creating a List of strings and accessing\n",
    "# using index\n",
    "List = [\"Hackathon\", \"GGC\", 2021, \"SST\", \"Mathematics\"]\n",
    "print(List) # or type List"
   ]
  },
  {
   "cell_type": "code",
   "execution_count": 51,
   "id": "e1d174c8",
   "metadata": {},
   "outputs": [
    {
     "name": "stdout",
     "output_type": "stream",
     "text": [
      "Hackathon\n",
      "2021\n"
     ]
    }
   ],
   "source": [
    "# Access the elements using index\n",
    "print(List[0]) \n",
    "print(List[2])"
   ]
  },
  {
   "cell_type": "markdown",
   "id": "913d2270",
   "metadata": {},
   "source": [
    "**Notice:** Indexing starts at 0 in python."
   ]
  },
  {
   "cell_type": "markdown",
   "id": "f680d69c",
   "metadata": {},
   "source": [
    "#  Pandas, A widely Used Package in Data Science\n",
    "\n",
    "Pandas is an open source Python package that is most widely used for data science/data analysis and machine learning tasks.\n",
    "It offers data structures and operations for manipulating numerical tables and time series.\n",
    "What makes pandas so common is its functionality, flexibility, and simple syntax.\n",
    "\n",
    "There are two sorts of data structures in Pandas:\n",
    "\n",
    "1. Series\n",
    "2. Dataframes.\n",
    "\n",
    "#### Installing Pandas: \n",
    "Using the following command on the conda command prompt:"
   ]
  },
  {
   "cell_type": "code",
   "execution_count": 52,
   "id": "b0c7c10d",
   "metadata": {},
   "outputs": [
    {
     "name": "stdout",
     "output_type": "stream",
     "text": [
      "Requirement already satisfied: pandas in /Users/negar/opt/anaconda3/lib/python3.8/site-packages (1.2.4)\n",
      "Requirement already satisfied: python-dateutil>=2.7.3 in /Users/negar/opt/anaconda3/lib/python3.8/site-packages (from pandas) (2.8.1)\n",
      "Requirement already satisfied: pytz>=2017.3 in /Users/negar/opt/anaconda3/lib/python3.8/site-packages (from pandas) (2021.1)\n",
      "Requirement already satisfied: numpy>=1.16.5 in /Users/negar/opt/anaconda3/lib/python3.8/site-packages (from pandas) (1.20.1)\n",
      "Requirement already satisfied: six>=1.5 in /Users/negar/opt/anaconda3/lib/python3.8/site-packages (from python-dateutil>=2.7.3->pandas) (1.15.0)\n",
      "Note: you may need to restart the kernel to use updated packages.\n"
     ]
    }
   ],
   "source": [
    "pip install pandas"
   ]
  },
  {
   "cell_type": "markdown",
   "id": "ead0c043",
   "metadata": {},
   "source": [
    "Once Pandas is successfully installed in your system, you can import Pandas simply by:"
   ]
  },
  {
   "cell_type": "code",
   "execution_count": 53,
   "id": "6bb763e8",
   "metadata": {},
   "outputs": [],
   "source": [
    "import pandas as pd"
   ]
  },
  {
   "cell_type": "markdown",
   "id": "1c175d0e",
   "metadata": {},
   "source": [
    "pd is an alias used for Pandas so that the Pandas package can be referred to as pd instead of pandas."
   ]
  },
  {
   "cell_type": "markdown",
   "id": "cac98c3d",
   "metadata": {},
   "source": [
    "## Creating Pandas Dataframe:\n",
    "\n",
    "\n",
    "A Data frame is a two-dimensional data structure, i.e., data is aligned in a tabular fashion in rows and columns."
   ]
  },
  {
   "cell_type": "code",
   "execution_count": 54,
   "id": "bcdd0ff9",
   "metadata": {},
   "outputs": [
    {
     "data": {
      "text/html": [
       "<div>\n",
       "<style scoped>\n",
       "    .dataframe tbody tr th:only-of-type {\n",
       "        vertical-align: middle;\n",
       "    }\n",
       "\n",
       "    .dataframe tbody tr th {\n",
       "        vertical-align: top;\n",
       "    }\n",
       "\n",
       "    .dataframe thead th {\n",
       "        text-align: right;\n",
       "    }\n",
       "</style>\n",
       "<table border=\"1\" class=\"dataframe\">\n",
       "  <thead>\n",
       "    <tr style=\"text-align: right;\">\n",
       "      <th></th>\n",
       "      <th>name</th>\n",
       "      <th>age</th>\n",
       "    </tr>\n",
       "  </thead>\n",
       "  <tbody>\n",
       "    <tr>\n",
       "      <th>0</th>\n",
       "      <td>Sarah</td>\n",
       "      <td>22</td>\n",
       "    </tr>\n",
       "    <tr>\n",
       "      <th>1</th>\n",
       "      <td>Joe</td>\n",
       "      <td>21</td>\n",
       "    </tr>\n",
       "    <tr>\n",
       "      <th>2</th>\n",
       "      <td>David</td>\n",
       "      <td>28</td>\n",
       "    </tr>\n",
       "  </tbody>\n",
       "</table>\n",
       "</div>"
      ],
      "text/plain": [
       "    name  age\n",
       "0  Sarah   22\n",
       "1    Joe   21\n",
       "2  David   28"
      ]
     },
     "execution_count": 54,
     "metadata": {},
     "output_type": "execute_result"
    }
   ],
   "source": [
    "# Create a pandas dataframe \n",
    "df1=pd.DataFrame({'name': ['Sarah', 'Joe', 'David'], 'age': [22, 21, 28]})\n",
    "df1"
   ]
  },
  {
   "cell_type": "code",
   "execution_count": 55,
   "id": "756d6c15",
   "metadata": {},
   "outputs": [
    {
     "data": {
      "text/plain": [
       "(3, 2)"
      ]
     },
     "execution_count": 55,
     "metadata": {},
     "output_type": "execute_result"
    }
   ],
   "source": [
    "# Get total number of rows and columns of the dataframe\n",
    "df1.shape"
   ]
  },
  {
   "cell_type": "code",
   "execution_count": 56,
   "id": "b607e091",
   "metadata": {},
   "outputs": [
    {
     "data": {
      "text/plain": [
       "0    Sarah\n",
       "1      Joe\n",
       "2    David\n",
       "Name: name, dtype: object"
      ]
     },
     "execution_count": 56,
     "metadata": {},
     "output_type": "execute_result"
    }
   ],
   "source": [
    "# Extract a certain column from the dataframe\n",
    "df1['name']"
   ]
  },
  {
   "cell_type": "markdown",
   "id": "db40d194",
   "metadata": {},
   "source": [
    "## How to work with CSV file in Python\n",
    "\n",
    "## Upload a .csv file\n",
    "\n",
    "### 1. If you are using jupyter notbook in Anaconda:\n",
    "\n",
    "To upload a .csv file to jupyter notbook in Anaconda use pd.read_csv('filename.csv')\n"
   ]
  },
  {
   "cell_type": "code",
   "execution_count": 12,
   "id": "a9bbfed7",
   "metadata": {},
   "outputs": [
    {
     "data": {
      "text/html": [
       "<div>\n",
       "<style scoped>\n",
       "    .dataframe tbody tr th:only-of-type {\n",
       "        vertical-align: middle;\n",
       "    }\n",
       "\n",
       "    .dataframe tbody tr th {\n",
       "        vertical-align: top;\n",
       "    }\n",
       "\n",
       "    .dataframe thead th {\n",
       "        text-align: right;\n",
       "    }\n",
       "</style>\n",
       "<table border=\"1\" class=\"dataframe\">\n",
       "  <thead>\n",
       "    <tr style=\"text-align: right;\">\n",
       "      <th></th>\n",
       "      <th>name</th>\n",
       "      <th>major</th>\n",
       "      <th>age</th>\n",
       "      <th>GPA</th>\n",
       "    </tr>\n",
       "  </thead>\n",
       "  <tbody>\n",
       "    <tr>\n",
       "      <th>0</th>\n",
       "      <td>Sarah</td>\n",
       "      <td>IT</td>\n",
       "      <td>23</td>\n",
       "      <td>3.31</td>\n",
       "    </tr>\n",
       "    <tr>\n",
       "      <th>1</th>\n",
       "      <td>Danial</td>\n",
       "      <td>IT</td>\n",
       "      <td>20</td>\n",
       "      <td>3.50</td>\n",
       "    </tr>\n",
       "    <tr>\n",
       "      <th>2</th>\n",
       "      <td>Josh</td>\n",
       "      <td>Math</td>\n",
       "      <td>19</td>\n",
       "      <td>3.23</td>\n",
       "    </tr>\n",
       "    <tr>\n",
       "      <th>3</th>\n",
       "      <td>Ali</td>\n",
       "      <td>Nursing</td>\n",
       "      <td>20</td>\n",
       "      <td>2.57</td>\n",
       "    </tr>\n",
       "    <tr>\n",
       "      <th>4</th>\n",
       "      <td>Hannah</td>\n",
       "      <td>Civil</td>\n",
       "      <td>22</td>\n",
       "      <td>2.92</td>\n",
       "    </tr>\n",
       "    <tr>\n",
       "      <th>5</th>\n",
       "      <td>Tom</td>\n",
       "      <td>IT</td>\n",
       "      <td>21</td>\n",
       "      <td>3.55</td>\n",
       "    </tr>\n",
       "    <tr>\n",
       "      <th>6</th>\n",
       "      <td>Martin</td>\n",
       "      <td>Physics</td>\n",
       "      <td>23</td>\n",
       "      <td>2.91</td>\n",
       "    </tr>\n",
       "    <tr>\n",
       "      <th>7</th>\n",
       "      <td>Tina</td>\n",
       "      <td>Civil</td>\n",
       "      <td>20</td>\n",
       "      <td>3.31</td>\n",
       "    </tr>\n",
       "    <tr>\n",
       "      <th>8</th>\n",
       "      <td>Alex</td>\n",
       "      <td>Math</td>\n",
       "      <td>30</td>\n",
       "      <td>2.43</td>\n",
       "    </tr>\n",
       "  </tbody>\n",
       "</table>\n",
       "</div>"
      ],
      "text/plain": [
       "     name    major  age   GPA\n",
       "0   Sarah       IT   23  3.31\n",
       "1  Danial       IT   20  3.50\n",
       "2    Josh     Math   19  3.23\n",
       "3     Ali  Nursing   20  2.57\n",
       "4  Hannah    Civil   22  2.92\n",
       "5     Tom       IT   21  3.55\n",
       "6  Martin  Physics   23  2.91\n",
       "7    Tina    Civil   20  3.31\n",
       "8    Alex     Math   30  2.43"
      ]
     },
     "execution_count": 12,
     "metadata": {},
     "output_type": "execute_result"
    }
   ],
   "source": [
    "# Read a .csv file\n",
    "df2= pd.read_csv(\"Data.csv\")\n",
    "df2"
   ]
  },
  {
   "cell_type": "markdown",
   "id": "55520ba7",
   "metadata": {},
   "source": [
    "###### .................................................................................................................................................................................................\n",
    "### 2. If you are using jupyter notbook in Google Colab:\n",
    "\n",
    "To upload a .csv file to jupyter notbook Google Colab start with the following code:"
   ]
  },
  {
   "cell_type": "code",
   "execution_count": null,
   "id": "82d23643",
   "metadata": {},
   "outputs": [],
   "source": [
    "from google.colab import files\n",
    "uploaded=files.upload()"
   ]
  },
  {
   "cell_type": "markdown",
   "id": "c7074682",
   "metadata": {},
   "source": [
    "It will prompt you to select a file.\n",
    "Click on “Choose Files” then select and upload the file. Wait for the file to be 100% uploaded. You should see the name of the file once Colab has uploaded it.\n",
    "Finally, type in the following code to import it into a dataframe (make sure the filename matches the name of the uploaded file)."
   ]
  },
  {
   "cell_type": "code",
   "execution_count": null,
   "id": "d69045dc",
   "metadata": {},
   "outputs": [],
   "source": [
    "import io\n",
    "df2 = pd.read_csv(io.BytesIO(uploaded['Data.csv']))"
   ]
  },
  {
   "cell_type": "markdown",
   "id": "4ee6346b",
   "metadata": {},
   "source": [
    "###### ................................................................................................................................................................................................."
   ]
  },
  {
   "cell_type": "code",
   "execution_count": 57,
   "id": "e5870dff",
   "metadata": {},
   "outputs": [
    {
     "data": {
      "text/plain": [
       "Index(['name', 'major', 'age', 'GPA'], dtype='object')"
      ]
     },
     "execution_count": 57,
     "metadata": {},
     "output_type": "execute_result"
    }
   ],
   "source": [
    "# Get the column names of the dataframe.\n",
    "df2.columns"
   ]
  },
  {
   "cell_type": "code",
   "execution_count": 58,
   "id": "2c8ee822",
   "metadata": {},
   "outputs": [
    {
     "data": {
      "text/html": [
       "<div>\n",
       "<style scoped>\n",
       "    .dataframe tbody tr th:only-of-type {\n",
       "        vertical-align: middle;\n",
       "    }\n",
       "\n",
       "    .dataframe tbody tr th {\n",
       "        vertical-align: top;\n",
       "    }\n",
       "\n",
       "    .dataframe thead th {\n",
       "        text-align: right;\n",
       "    }\n",
       "</style>\n",
       "<table border=\"1\" class=\"dataframe\">\n",
       "  <thead>\n",
       "    <tr style=\"text-align: right;\">\n",
       "      <th></th>\n",
       "      <th>name</th>\n",
       "      <th>major</th>\n",
       "      <th>age</th>\n",
       "      <th>GPA</th>\n",
       "    </tr>\n",
       "  </thead>\n",
       "  <tbody>\n",
       "    <tr>\n",
       "      <th>0</th>\n",
       "      <td>Sarah</td>\n",
       "      <td>IT</td>\n",
       "      <td>23</td>\n",
       "      <td>3.31</td>\n",
       "    </tr>\n",
       "    <tr>\n",
       "      <th>1</th>\n",
       "      <td>Danial</td>\n",
       "      <td>IT</td>\n",
       "      <td>20</td>\n",
       "      <td>3.50</td>\n",
       "    </tr>\n",
       "    <tr>\n",
       "      <th>2</th>\n",
       "      <td>Josh</td>\n",
       "      <td>Math</td>\n",
       "      <td>19</td>\n",
       "      <td>3.23</td>\n",
       "    </tr>\n",
       "    <tr>\n",
       "      <th>3</th>\n",
       "      <td>Ali</td>\n",
       "      <td>Nursing</td>\n",
       "      <td>20</td>\n",
       "      <td>2.57</td>\n",
       "    </tr>\n",
       "    <tr>\n",
       "      <th>4</th>\n",
       "      <td>Hannah</td>\n",
       "      <td>Civil</td>\n",
       "      <td>22</td>\n",
       "      <td>2.92</td>\n",
       "    </tr>\n",
       "  </tbody>\n",
       "</table>\n",
       "</div>"
      ],
      "text/plain": [
       "     name    major  age   GPA\n",
       "0   Sarah       IT   23  3.31\n",
       "1  Danial       IT   20  3.50\n",
       "2    Josh     Math   19  3.23\n",
       "3     Ali  Nursing   20  2.57\n",
       "4  Hannah    Civil   22  2.92"
      ]
     },
     "execution_count": 58,
     "metadata": {},
     "output_type": "execute_result"
    }
   ],
   "source": [
    "# View top 5 rows of the data frame\n",
    "df2.head()"
   ]
  },
  {
   "cell_type": "code",
   "execution_count": 59,
   "id": "3af2d556",
   "metadata": {},
   "outputs": [
    {
     "data": {
      "text/plain": [
       "RangeIndex(start=0, stop=9, step=1)"
      ]
     },
     "execution_count": 59,
     "metadata": {},
     "output_type": "execute_result"
    }
   ],
   "source": [
    "# Get index of the dataframe.\n",
    "df2.index"
   ]
  },
  {
   "cell_type": "code",
   "execution_count": 60,
   "id": "f206eb70",
   "metadata": {},
   "outputs": [
    {
     "data": {
      "text/html": [
       "<div>\n",
       "<style scoped>\n",
       "    .dataframe tbody tr th:only-of-type {\n",
       "        vertical-align: middle;\n",
       "    }\n",
       "\n",
       "    .dataframe tbody tr th {\n",
       "        vertical-align: top;\n",
       "    }\n",
       "\n",
       "    .dataframe thead th {\n",
       "        text-align: right;\n",
       "    }\n",
       "</style>\n",
       "<table border=\"1\" class=\"dataframe\">\n",
       "  <thead>\n",
       "    <tr style=\"text-align: right;\">\n",
       "      <th></th>\n",
       "      <th>name</th>\n",
       "      <th>major</th>\n",
       "      <th>age</th>\n",
       "      <th>GPA</th>\n",
       "    </tr>\n",
       "  </thead>\n",
       "  <tbody>\n",
       "    <tr>\n",
       "      <th>0</th>\n",
       "      <td>Sarah</td>\n",
       "      <td>IT</td>\n",
       "      <td>23</td>\n",
       "      <td>3.31</td>\n",
       "    </tr>\n",
       "    <tr>\n",
       "      <th>1</th>\n",
       "      <td>Danial</td>\n",
       "      <td>IT</td>\n",
       "      <td>20</td>\n",
       "      <td>3.50</td>\n",
       "    </tr>\n",
       "  </tbody>\n",
       "</table>\n",
       "</div>"
      ],
      "text/plain": [
       "     name major  age   GPA\n",
       "0   Sarah    IT   23  3.31\n",
       "1  Danial    IT   20  3.50"
      ]
     },
     "execution_count": 60,
     "metadata": {},
     "output_type": "execute_result"
    }
   ],
   "source": [
    "# One can view any number of top rows by\n",
    "df2.head(2)"
   ]
  },
  {
   "cell_type": "code",
   "execution_count": 61,
   "id": "2a524c18",
   "metadata": {},
   "outputs": [
    {
     "data": {
      "text/plain": [
       "0     Sarah\n",
       "1    Danial\n",
       "2      Josh\n",
       "3       Ali\n",
       "4    Hannah\n",
       "5       Tom\n",
       "6    Martin\n",
       "7      Tina\n",
       "8      Alex\n",
       "Name: name, dtype: object"
      ]
     },
     "execution_count": 61,
     "metadata": {},
     "output_type": "execute_result"
    }
   ],
   "source": [
    "# Extract a certain column from the dataframe\n",
    "df2['name']"
   ]
  },
  {
   "cell_type": "code",
   "execution_count": 62,
   "id": "63ea962e",
   "metadata": {},
   "outputs": [
    {
     "data": {
      "text/html": [
       "<div>\n",
       "<style scoped>\n",
       "    .dataframe tbody tr th:only-of-type {\n",
       "        vertical-align: middle;\n",
       "    }\n",
       "\n",
       "    .dataframe tbody tr th {\n",
       "        vertical-align: top;\n",
       "    }\n",
       "\n",
       "    .dataframe thead th {\n",
       "        text-align: right;\n",
       "    }\n",
       "</style>\n",
       "<table border=\"1\" class=\"dataframe\">\n",
       "  <thead>\n",
       "    <tr style=\"text-align: right;\">\n",
       "      <th></th>\n",
       "      <th>name</th>\n",
       "      <th>GPA</th>\n",
       "    </tr>\n",
       "  </thead>\n",
       "  <tbody>\n",
       "    <tr>\n",
       "      <th>0</th>\n",
       "      <td>Sarah</td>\n",
       "      <td>3.31</td>\n",
       "    </tr>\n",
       "    <tr>\n",
       "      <th>1</th>\n",
       "      <td>Danial</td>\n",
       "      <td>3.50</td>\n",
       "    </tr>\n",
       "    <tr>\n",
       "      <th>2</th>\n",
       "      <td>Josh</td>\n",
       "      <td>3.23</td>\n",
       "    </tr>\n",
       "    <tr>\n",
       "      <th>3</th>\n",
       "      <td>Ali</td>\n",
       "      <td>2.57</td>\n",
       "    </tr>\n",
       "    <tr>\n",
       "      <th>4</th>\n",
       "      <td>Hannah</td>\n",
       "      <td>2.92</td>\n",
       "    </tr>\n",
       "    <tr>\n",
       "      <th>5</th>\n",
       "      <td>Tom</td>\n",
       "      <td>3.55</td>\n",
       "    </tr>\n",
       "    <tr>\n",
       "      <th>6</th>\n",
       "      <td>Martin</td>\n",
       "      <td>2.91</td>\n",
       "    </tr>\n",
       "    <tr>\n",
       "      <th>7</th>\n",
       "      <td>Tina</td>\n",
       "      <td>3.31</td>\n",
       "    </tr>\n",
       "    <tr>\n",
       "      <th>8</th>\n",
       "      <td>Alex</td>\n",
       "      <td>2.43</td>\n",
       "    </tr>\n",
       "  </tbody>\n",
       "</table>\n",
       "</div>"
      ],
      "text/plain": [
       "     name   GPA\n",
       "0   Sarah  3.31\n",
       "1  Danial  3.50\n",
       "2    Josh  3.23\n",
       "3     Ali  2.57\n",
       "4  Hannah  2.92\n",
       "5     Tom  3.55\n",
       "6  Martin  2.91\n",
       "7    Tina  3.31\n",
       "8    Alex  2.43"
      ]
     },
     "execution_count": 62,
     "metadata": {},
     "output_type": "execute_result"
    }
   ],
   "source": [
    "#Extracting multiple columns at a time \n",
    "df2[['name', 'GPA']]"
   ]
  },
  {
   "cell_type": "code",
   "execution_count": 63,
   "id": "c6eebf9d",
   "metadata": {},
   "outputs": [
    {
     "data": {
      "text/plain": [
       "name     Hannah\n",
       "major     Civil\n",
       "age          22\n",
       "GPA        2.92\n",
       "Name: 4, dtype: object"
      ]
     },
     "execution_count": 63,
     "metadata": {},
     "output_type": "execute_result"
    }
   ],
   "source": [
    "# Extract a certain row using the index from a dataframe\n",
    "df2.iloc[4]"
   ]
  },
  {
   "cell_type": "code",
   "execution_count": 64,
   "id": "c42e6247",
   "metadata": {},
   "outputs": [
    {
     "data": {
      "text/plain": [
       "'Civil'"
      ]
     },
     "execution_count": 64,
     "metadata": {},
     "output_type": "execute_result"
    }
   ],
   "source": [
    "# Extracting a particular column and row from dataframe. dataframe.iloc[m,n] where m is row index and n is column index \n",
    "df2.iloc[4, 1] "
   ]
  },
  {
   "cell_type": "code",
   "execution_count": 65,
   "id": "6277fc7f",
   "metadata": {},
   "outputs": [
    {
     "data": {
      "text/plain": [
       "0     True\n",
       "1     True\n",
       "2    False\n",
       "3    False\n",
       "4    False\n",
       "5     True\n",
       "6    False\n",
       "7    False\n",
       "8    False\n",
       "Name: major, dtype: bool"
      ]
     },
     "execution_count": 65,
     "metadata": {},
     "output_type": "execute_result"
    }
   ],
   "source": [
    "df2['major']=='IT'"
   ]
  },
  {
   "cell_type": "code",
   "execution_count": 66,
   "id": "1272260f",
   "metadata": {},
   "outputs": [
    {
     "data": {
      "text/html": [
       "<div>\n",
       "<style scoped>\n",
       "    .dataframe tbody tr th:only-of-type {\n",
       "        vertical-align: middle;\n",
       "    }\n",
       "\n",
       "    .dataframe tbody tr th {\n",
       "        vertical-align: top;\n",
       "    }\n",
       "\n",
       "    .dataframe thead th {\n",
       "        text-align: right;\n",
       "    }\n",
       "</style>\n",
       "<table border=\"1\" class=\"dataframe\">\n",
       "  <thead>\n",
       "    <tr style=\"text-align: right;\">\n",
       "      <th></th>\n",
       "      <th>name</th>\n",
       "      <th>major</th>\n",
       "      <th>age</th>\n",
       "      <th>GPA</th>\n",
       "    </tr>\n",
       "  </thead>\n",
       "  <tbody>\n",
       "    <tr>\n",
       "      <th>0</th>\n",
       "      <td>Sarah</td>\n",
       "      <td>IT</td>\n",
       "      <td>23</td>\n",
       "      <td>3.31</td>\n",
       "    </tr>\n",
       "    <tr>\n",
       "      <th>1</th>\n",
       "      <td>Danial</td>\n",
       "      <td>IT</td>\n",
       "      <td>20</td>\n",
       "      <td>3.50</td>\n",
       "    </tr>\n",
       "    <tr>\n",
       "      <th>5</th>\n",
       "      <td>Tom</td>\n",
       "      <td>IT</td>\n",
       "      <td>21</td>\n",
       "      <td>3.55</td>\n",
       "    </tr>\n",
       "  </tbody>\n",
       "</table>\n",
       "</div>"
      ],
      "text/plain": [
       "     name major  age   GPA\n",
       "0   Sarah    IT   23  3.31\n",
       "1  Danial    IT   20  3.50\n",
       "5     Tom    IT   21  3.55"
      ]
     },
     "execution_count": 66,
     "metadata": {},
     "output_type": "execute_result"
    }
   ],
   "source": [
    "# Extract a subset of a dataframe\n",
    "df2[df2['major']=='IT']"
   ]
  },
  {
   "cell_type": "code",
   "execution_count": 67,
   "id": "458f250c",
   "metadata": {},
   "outputs": [
    {
     "data": {
      "text/html": [
       "<div>\n",
       "<style scoped>\n",
       "    .dataframe tbody tr th:only-of-type {\n",
       "        vertical-align: middle;\n",
       "    }\n",
       "\n",
       "    .dataframe tbody tr th {\n",
       "        vertical-align: top;\n",
       "    }\n",
       "\n",
       "    .dataframe thead th {\n",
       "        text-align: right;\n",
       "    }\n",
       "</style>\n",
       "<table border=\"1\" class=\"dataframe\">\n",
       "  <thead>\n",
       "    <tr style=\"text-align: right;\">\n",
       "      <th></th>\n",
       "      <th>name</th>\n",
       "      <th>major</th>\n",
       "      <th>age</th>\n",
       "      <th>GPA</th>\n",
       "    </tr>\n",
       "  </thead>\n",
       "  <tbody>\n",
       "    <tr>\n",
       "      <th>0</th>\n",
       "      <td>Sarah</td>\n",
       "      <td>IT</td>\n",
       "      <td>23</td>\n",
       "      <td>3.31</td>\n",
       "    </tr>\n",
       "    <tr>\n",
       "      <th>4</th>\n",
       "      <td>Hannah</td>\n",
       "      <td>Civil</td>\n",
       "      <td>22</td>\n",
       "      <td>2.92</td>\n",
       "    </tr>\n",
       "    <tr>\n",
       "      <th>6</th>\n",
       "      <td>Martin</td>\n",
       "      <td>Physics</td>\n",
       "      <td>23</td>\n",
       "      <td>2.91</td>\n",
       "    </tr>\n",
       "    <tr>\n",
       "      <th>8</th>\n",
       "      <td>Alex</td>\n",
       "      <td>Math</td>\n",
       "      <td>30</td>\n",
       "      <td>2.43</td>\n",
       "    </tr>\n",
       "  </tbody>\n",
       "</table>\n",
       "</div>"
      ],
      "text/plain": [
       "     name    major  age   GPA\n",
       "0   Sarah       IT   23  3.31\n",
       "4  Hannah    Civil   22  2.92\n",
       "6  Martin  Physics   23  2.91\n",
       "8    Alex     Math   30  2.43"
      ]
     },
     "execution_count": 67,
     "metadata": {},
     "output_type": "execute_result"
    }
   ],
   "source": [
    "# Extract a subset of a datafram\n",
    "df2[df2['age']>21]"
   ]
  },
  {
   "cell_type": "code",
   "execution_count": 68,
   "id": "5763f33a",
   "metadata": {},
   "outputs": [],
   "source": [
    "# Save the dataframe as .csv\n",
    "df2.to_csv('df.csv', index=False)"
   ]
  },
  {
   "cell_type": "markdown",
   "id": "161d3416",
   "metadata": {},
   "source": [
    "# Natural Language Processing\n",
    "\n",
    "Natural Language Processing is a branch of Artificial Intelligence that deals with the interaction between computers and humans using the natural language. It is about developing applications and services that are able to understand human languages.\n",
    "\n",
    "### NLTK \n",
    "NLTK stands for Natural Language Toolkit. This is a suite of libraries and programs for statistical natural language processing for English written in Python.\n",
    "\n",
    "NLTK is the most popular library for natural language processing (NLP) and it is very easy to learn.\n",
    "\n",
    "##### Installing NLTK:\n",
    "\n",
    "Install NLTK using the following command on the conda command prompt."
   ]
  },
  {
   "cell_type": "code",
   "execution_count": 69,
   "id": "a03637b4",
   "metadata": {},
   "outputs": [
    {
     "name": "stdout",
     "output_type": "stream",
     "text": [
      "Requirement already satisfied: nltk in /Users/negar/opt/anaconda3/lib/python3.8/site-packages (3.6.1)\n",
      "Requirement already satisfied: regex in /Users/negar/opt/anaconda3/lib/python3.8/site-packages (from nltk) (2021.4.4)\n",
      "Requirement already satisfied: click in /Users/negar/opt/anaconda3/lib/python3.8/site-packages (from nltk) (7.1.2)\n",
      "Requirement already satisfied: tqdm in /Users/negar/opt/anaconda3/lib/python3.8/site-packages (from nltk) (4.59.0)\n",
      "Requirement already satisfied: joblib in /Users/negar/opt/anaconda3/lib/python3.8/site-packages (from nltk) (1.0.1)\n",
      "Note: you may need to restart the kernel to use updated packages.\n"
     ]
    }
   ],
   "source": [
    "pip install nltk"
   ]
  },
  {
   "cell_type": "markdown",
   "id": "0ccb1a20",
   "metadata": {},
   "source": [
    "Once NLTK is successfully installed in your system, you can import NLTK simply by:"
   ]
  },
  {
   "cell_type": "code",
   "execution_count": 70,
   "id": "7357a313",
   "metadata": {},
   "outputs": [],
   "source": [
    "import nltk"
   ]
  },
  {
   "cell_type": "markdown",
   "id": "1a678156",
   "metadata": {},
   "source": [
    "## Data preprocessing \n",
    "\n",
    "Data preprocessing involves preparing and cleaning text data for machines to be able to analyze it. Preprocessing puts data in workable form and highlights features in the text that an algorithm can work with. \n",
    "\n",
    "\n",
    "There are several ways this can be done, including:\n",
    "1. Tokenization\n",
    "2. Stop words \n",
    "3. Bag of Words\n",
    "4. Stemming\n"
   ]
  },
  {
   "cell_type": "markdown",
   "id": "237693a6",
   "metadata": {},
   "source": [
    "## Tokenize"
   ]
  },
  {
   "cell_type": "markdown",
   "id": "190b7f7d",
   "metadata": {},
   "source": [
    "Tokenization is a common task a data scientist comes across when working with text data. It consists of splitting an entire text into small units, also known as tokens.\n",
    "\n",
    "Most Natural Language Processing (NLP) projects have tokenization as the first step because it’s the foundation for developing good models and helps better understand the text we have.\n",
    "\n",
    "There are different ways to tokenize the text data including:\n",
    "\n",
    "1. Simple tokenization with .split\n",
    "2. Tokenization with NLTK\n",
    "3. Convert a corpus to a vector of token counts with Count Vectorizer (sklearn)\n",
    "4. Tokenization with Gensim\n",
    "\n",
    "Here we will use Tokenization from nltk and Count Vectorizer from sklearn."
   ]
  },
  {
   "cell_type": "code",
   "execution_count": 71,
   "id": "f4014aee",
   "metadata": {},
   "outputs": [],
   "source": [
    "text=\"Tokenization is 1 of the many tasks a Data Scientist do when cleaning & preparing data !\""
   ]
  },
  {
   "cell_type": "markdown",
   "id": "8234ee08",
   "metadata": {},
   "source": [
    "### Tokenization with nltk\n"
   ]
  },
  {
   "cell_type": "markdown",
   "id": "2c2c9846",
   "metadata": {},
   "source": [
    "NLTK contains a module called tokenize with a \"word_tokenize()\" method that will help us split a text into tokens. "
   ]
  },
  {
   "cell_type": "code",
   "execution_count": 72,
   "id": "4f7c5748",
   "metadata": {},
   "outputs": [],
   "source": [
    "# import word_tokenize\n",
    "from nltk.tokenize import word_tokenize"
   ]
  },
  {
   "cell_type": "code",
   "execution_count": 73,
   "id": "c42cbfce",
   "metadata": {},
   "outputs": [
    {
     "name": "stderr",
     "output_type": "stream",
     "text": [
      "[nltk_data] Downloading package punkt to /Users/negar/nltk_data...\n",
      "[nltk_data]   Package punkt is already up-to-date!\n"
     ]
    },
    {
     "data": {
      "text/plain": [
       "True"
      ]
     },
     "execution_count": 73,
     "metadata": {},
     "output_type": "execute_result"
    }
   ],
   "source": [
    "nltk.download('punkt')"
   ]
  },
  {
   "cell_type": "code",
   "execution_count": 74,
   "id": "4fa571bd",
   "metadata": {},
   "outputs": [
    {
     "data": {
      "text/plain": [
       "['Tokenization',\n",
       " 'is',\n",
       " '1',\n",
       " 'of',\n",
       " 'the',\n",
       " 'many',\n",
       " 'tasks',\n",
       " 'a',\n",
       " 'Data',\n",
       " 'Scientist',\n",
       " 'do',\n",
       " 'when',\n",
       " 'cleaning',\n",
       " '&',\n",
       " 'preparing',\n",
       " 'data',\n",
       " '!']"
      ]
     },
     "execution_count": 74,
     "metadata": {},
     "output_type": "execute_result"
    }
   ],
   "source": [
    "# word_tokenize() to tokenize text\n",
    "word_tokenize(text)"
   ]
  },
  {
   "cell_type": "markdown",
   "id": "5e742657",
   "metadata": {},
   "source": [
    "In this example we have tokens \"Data\" and \"data\" which are basically the same things.\n",
    "Later on we will consider the frequncies of the tokens and \"Data\" and \"data\" will be considered as two different tokens each with frequency one.\n",
    "\n",
    "As a part of data preprocessing we can use built-in function .lower() to change all uppercase letters to lowercase latters. \n"
   ]
  },
  {
   "cell_type": "code",
   "execution_count": 75,
   "id": "8cb63c32",
   "metadata": {},
   "outputs": [
    {
     "data": {
      "text/plain": [
       "'tokenization is 1 of the many tasks a data scientist do when cleaning & preparing data !'"
      ]
     },
     "execution_count": 75,
     "metadata": {},
     "output_type": "execute_result"
    }
   ],
   "source": [
    "text.lower()"
   ]
  },
  {
   "cell_type": "markdown",
   "id": "cd863837",
   "metadata": {},
   "source": [
    "As you can see above, the split() doesn’t consider punctuation symbols (!) as a separate token. This might change your project results. So we need to remove the punctuations form the bag of words.\n",
    "\n",
    "What are English punctuations?"
   ]
  },
  {
   "cell_type": "code",
   "execution_count": 76,
   "id": "7386b2a5",
   "metadata": {},
   "outputs": [
    {
     "data": {
      "text/plain": [
       "'!\"#$%&\\'()*+,-./:;<=>?@[\\\\]^_`{|}~'"
      ]
     },
     "execution_count": 76,
     "metadata": {},
     "output_type": "execute_result"
    }
   ],
   "source": [
    "import string\n",
    "string.punctuation"
   ]
  },
  {
   "cell_type": "markdown",
   "id": "d6725e96",
   "metadata": {},
   "source": [
    "Removing punctuations is also a part of data preprocessing which should be considered. We will talk about this in **Stop Words**."
   ]
  },
  {
   "cell_type": "markdown",
   "id": "a6c34c00",
   "metadata": {},
   "source": [
    "Now imagine we are working with a large **corpus** (collection of texts)."
   ]
  },
  {
   "cell_type": "code",
   "execution_count": 77,
   "id": "d9be8423",
   "metadata": {},
   "outputs": [
    {
     "data": {
      "text/plain": [
       "['My close friend Sarah, is a student at GGC',\n",
       " 'She works on her HWs with other students at GGC',\n",
       " 'She is friendly & nice and she likes working on her hws with other Students.']"
      ]
     },
     "execution_count": 77,
     "metadata": {},
     "output_type": "execute_result"
    }
   ],
   "source": [
    "texts = [\n",
    "    \"My close friend Sarah, is a student at GGC\",\n",
    "    \"She works on her HWs with other students at GGC\",\n",
    "    \"She is friendly & nice and she likes working on her hws with other Students.\"\n",
    "]\n",
    "texts"
   ]
  },
  {
   "cell_type": "markdown",
   "id": "8bd64ae3",
   "metadata": {},
   "source": [
    "When we are working with a large corpus, we can use Count Vectorizer to get the tokens and their frequencies."
   ]
  },
  {
   "cell_type": "markdown",
   "id": "6a592750",
   "metadata": {},
   "source": [
    "## Bag of Words "
   ]
  },
  {
   "cell_type": "markdown",
   "id": "1268f290",
   "metadata": {},
   "source": [
    "#### Count Vectorizer:\n",
    "\n",
    "CountVectorizer is a great tool provided by the scikit-learn library in Python.\n",
    "It is used to transform a given text into a vector on the basis of the frequency (count) of each word that occurs in the entire text.\n",
    "\n",
    "\n",
    "To use Count Vectoriser we need to put the date in a dataframe format."
   ]
  },
  {
   "cell_type": "code",
   "execution_count": 78,
   "id": "2babaa07",
   "metadata": {},
   "outputs": [
    {
     "data": {
      "text/html": [
       "<div>\n",
       "<style scoped>\n",
       "    .dataframe tbody tr th:only-of-type {\n",
       "        vertical-align: middle;\n",
       "    }\n",
       "\n",
       "    .dataframe tbody tr th {\n",
       "        vertical-align: top;\n",
       "    }\n",
       "\n",
       "    .dataframe thead th {\n",
       "        text-align: right;\n",
       "    }\n",
       "</style>\n",
       "<table border=\"1\" class=\"dataframe\">\n",
       "  <thead>\n",
       "    <tr style=\"text-align: right;\">\n",
       "      <th></th>\n",
       "      <th>Col</th>\n",
       "    </tr>\n",
       "  </thead>\n",
       "  <tbody>\n",
       "    <tr>\n",
       "      <th>0</th>\n",
       "      <td>My close friend Sarah, is a student at GGC</td>\n",
       "    </tr>\n",
       "    <tr>\n",
       "      <th>1</th>\n",
       "      <td>She works on her HWs with other students at GGC</td>\n",
       "    </tr>\n",
       "    <tr>\n",
       "      <th>2</th>\n",
       "      <td>She is friendly &amp; nice and she likes working o...</td>\n",
       "    </tr>\n",
       "  </tbody>\n",
       "</table>\n",
       "</div>"
      ],
      "text/plain": [
       "                                                 Col\n",
       "0         My close friend Sarah, is a student at GGC\n",
       "1    She works on her HWs with other students at GGC\n",
       "2  She is friendly & nice and she likes working o..."
      ]
     },
     "execution_count": 78,
     "metadata": {},
     "output_type": "execute_result"
    }
   ],
   "source": [
    "df = pd.DataFrame({'Col':texts })\n",
    "df"
   ]
  },
  {
   "cell_type": "markdown",
   "id": "129b4e1e",
   "metadata": {},
   "source": [
    "## Create the Document-Term Matrix (DTM).\n",
    "\n",
    "Next, we create a Document-Term Matrix using the bag of words.\n",
    "\n",
    "\n",
    "'CountVectorizer' converts the collection of text documents to a matrix of token counts. This implementation produces a sparse matrix. \n",
    "\n",
    "The value of each cell are the count of the word in that particular text sample."
   ]
  },
  {
   "cell_type": "markdown",
   "id": "3c531b55",
   "metadata": {},
   "source": [
    "Dont forget to import CountVectorizer from sklearn package!"
   ]
  },
  {
   "cell_type": "code",
   "execution_count": 79,
   "id": "b4cea642",
   "metadata": {},
   "outputs": [],
   "source": [
    "from sklearn.feature_extraction.text import CountVectorizer\n",
    "# initialize\n",
    "CV = CountVectorizer() \n",
    "CV_matrix = CV.fit_transform(df['Col']) "
   ]
  },
  {
   "cell_type": "code",
   "execution_count": 80,
   "id": "35502ed6",
   "metadata": {},
   "outputs": [
    {
     "data": {
      "text/plain": [
       "<3x21 sparse matrix of type '<class 'numpy.int64'>'\n",
       "\twith 31 stored elements in Compressed Sparse Row format>"
      ]
     },
     "execution_count": 80,
     "metadata": {},
     "output_type": "execute_result"
    }
   ],
   "source": [
    "CV_matrix"
   ]
  },
  {
   "cell_type": "markdown",
   "id": "be10337a",
   "metadata": {},
   "source": [
    "We got a 3*21 sparse matrix since there are 3 texts/lines in our text data 21 tokens."
   ]
  },
  {
   "cell_type": "code",
   "execution_count": 81,
   "id": "b51ed5d7",
   "metadata": {},
   "outputs": [],
   "source": [
    "# create document term matrix\n",
    "df_matrix = pd.DataFrame(CV_matrix.toarray(), columns=CV.get_feature_names())"
   ]
  },
  {
   "cell_type": "code",
   "execution_count": 82,
   "id": "09922d4d",
   "metadata": {},
   "outputs": [
    {
     "data": {
      "text/html": [
       "<div>\n",
       "<style scoped>\n",
       "    .dataframe tbody tr th:only-of-type {\n",
       "        vertical-align: middle;\n",
       "    }\n",
       "\n",
       "    .dataframe tbody tr th {\n",
       "        vertical-align: top;\n",
       "    }\n",
       "\n",
       "    .dataframe thead th {\n",
       "        text-align: right;\n",
       "    }\n",
       "</style>\n",
       "<table border=\"1\" class=\"dataframe\">\n",
       "  <thead>\n",
       "    <tr style=\"text-align: right;\">\n",
       "      <th></th>\n",
       "      <th>and</th>\n",
       "      <th>at</th>\n",
       "      <th>close</th>\n",
       "      <th>friend</th>\n",
       "      <th>friendly</th>\n",
       "      <th>ggc</th>\n",
       "      <th>her</th>\n",
       "      <th>hws</th>\n",
       "      <th>is</th>\n",
       "      <th>likes</th>\n",
       "      <th>...</th>\n",
       "      <th>nice</th>\n",
       "      <th>on</th>\n",
       "      <th>other</th>\n",
       "      <th>sarah</th>\n",
       "      <th>she</th>\n",
       "      <th>student</th>\n",
       "      <th>students</th>\n",
       "      <th>with</th>\n",
       "      <th>working</th>\n",
       "      <th>works</th>\n",
       "    </tr>\n",
       "  </thead>\n",
       "  <tbody>\n",
       "    <tr>\n",
       "      <th>0</th>\n",
       "      <td>0</td>\n",
       "      <td>1</td>\n",
       "      <td>1</td>\n",
       "      <td>1</td>\n",
       "      <td>0</td>\n",
       "      <td>1</td>\n",
       "      <td>0</td>\n",
       "      <td>0</td>\n",
       "      <td>1</td>\n",
       "      <td>0</td>\n",
       "      <td>...</td>\n",
       "      <td>0</td>\n",
       "      <td>0</td>\n",
       "      <td>0</td>\n",
       "      <td>1</td>\n",
       "      <td>0</td>\n",
       "      <td>1</td>\n",
       "      <td>0</td>\n",
       "      <td>0</td>\n",
       "      <td>0</td>\n",
       "      <td>0</td>\n",
       "    </tr>\n",
       "    <tr>\n",
       "      <th>1</th>\n",
       "      <td>0</td>\n",
       "      <td>1</td>\n",
       "      <td>0</td>\n",
       "      <td>0</td>\n",
       "      <td>0</td>\n",
       "      <td>1</td>\n",
       "      <td>1</td>\n",
       "      <td>1</td>\n",
       "      <td>0</td>\n",
       "      <td>0</td>\n",
       "      <td>...</td>\n",
       "      <td>0</td>\n",
       "      <td>1</td>\n",
       "      <td>1</td>\n",
       "      <td>0</td>\n",
       "      <td>1</td>\n",
       "      <td>0</td>\n",
       "      <td>1</td>\n",
       "      <td>1</td>\n",
       "      <td>0</td>\n",
       "      <td>1</td>\n",
       "    </tr>\n",
       "    <tr>\n",
       "      <th>2</th>\n",
       "      <td>1</td>\n",
       "      <td>0</td>\n",
       "      <td>0</td>\n",
       "      <td>0</td>\n",
       "      <td>1</td>\n",
       "      <td>0</td>\n",
       "      <td>1</td>\n",
       "      <td>1</td>\n",
       "      <td>1</td>\n",
       "      <td>1</td>\n",
       "      <td>...</td>\n",
       "      <td>1</td>\n",
       "      <td>1</td>\n",
       "      <td>1</td>\n",
       "      <td>0</td>\n",
       "      <td>2</td>\n",
       "      <td>0</td>\n",
       "      <td>1</td>\n",
       "      <td>1</td>\n",
       "      <td>1</td>\n",
       "      <td>0</td>\n",
       "    </tr>\n",
       "  </tbody>\n",
       "</table>\n",
       "<p>3 rows × 21 columns</p>\n",
       "</div>"
      ],
      "text/plain": [
       "   and  at  close  friend  friendly  ggc  her  hws  is  likes  ...  nice  on  \\\n",
       "0    0   1      1       1         0    1    0    0   1      0  ...     0   0   \n",
       "1    0   1      0       0         0    1    1    1   0      0  ...     0   1   \n",
       "2    1   0      0       0         1    0    1    1   1      1  ...     1   1   \n",
       "\n",
       "   other  sarah  she  student  students  with  working  works  \n",
       "0      0      1    0        1         0     0        0      0  \n",
       "1      1      0    1        0         1     1        0      1  \n",
       "2      1      0    2        0         1     1        1      0  \n",
       "\n",
       "[3 rows x 21 columns]"
      ]
     },
     "execution_count": 82,
     "metadata": {},
     "output_type": "execute_result"
    }
   ],
   "source": [
    "df_matrix"
   ]
  },
  {
   "cell_type": "markdown",
   "id": "57c7ff95",
   "metadata": {},
   "source": [
    "### Stop Words:\n",
    "\n",
    "One of important parts of data processing is removing the stop words.\n",
    "\n",
    "Stop words are the English words which does not add much meaning to a sentence. They can safely be ignored without sacrificing the meaning of the sentence. \n",
    "\n",
    "#### Consider removing stop words before creating DTM"
   ]
  },
  {
   "cell_type": "code",
   "execution_count": 83,
   "id": "0a5bd17b",
   "metadata": {},
   "outputs": [],
   "source": [
    "from sklearn.feature_extraction.text import CountVectorizer\n",
    "# initialize\n",
    "CV = CountVectorizer(stop_words='english') \n",
    "CV_matrix_SW = CV.fit_transform(df['Col']) \n",
    "\n",
    "# create document term matrix\n",
    "df_matrix_SW = pd.DataFrame(CV_matrix_SW.toarray(), columns=CV.get_feature_names())"
   ]
  },
  {
   "cell_type": "code",
   "execution_count": 84,
   "id": "ee9c633a",
   "metadata": {},
   "outputs": [
    {
     "data": {
      "text/html": [
       "<div>\n",
       "<style scoped>\n",
       "    .dataframe tbody tr th:only-of-type {\n",
       "        vertical-align: middle;\n",
       "    }\n",
       "\n",
       "    .dataframe tbody tr th {\n",
       "        vertical-align: top;\n",
       "    }\n",
       "\n",
       "    .dataframe thead th {\n",
       "        text-align: right;\n",
       "    }\n",
       "</style>\n",
       "<table border=\"1\" class=\"dataframe\">\n",
       "  <thead>\n",
       "    <tr style=\"text-align: right;\">\n",
       "      <th></th>\n",
       "      <th>close</th>\n",
       "      <th>friend</th>\n",
       "      <th>friendly</th>\n",
       "      <th>ggc</th>\n",
       "      <th>hws</th>\n",
       "      <th>likes</th>\n",
       "      <th>nice</th>\n",
       "      <th>sarah</th>\n",
       "      <th>student</th>\n",
       "      <th>students</th>\n",
       "      <th>working</th>\n",
       "      <th>works</th>\n",
       "    </tr>\n",
       "  </thead>\n",
       "  <tbody>\n",
       "    <tr>\n",
       "      <th>0</th>\n",
       "      <td>1</td>\n",
       "      <td>1</td>\n",
       "      <td>0</td>\n",
       "      <td>1</td>\n",
       "      <td>0</td>\n",
       "      <td>0</td>\n",
       "      <td>0</td>\n",
       "      <td>1</td>\n",
       "      <td>1</td>\n",
       "      <td>0</td>\n",
       "      <td>0</td>\n",
       "      <td>0</td>\n",
       "    </tr>\n",
       "    <tr>\n",
       "      <th>1</th>\n",
       "      <td>0</td>\n",
       "      <td>0</td>\n",
       "      <td>0</td>\n",
       "      <td>1</td>\n",
       "      <td>1</td>\n",
       "      <td>0</td>\n",
       "      <td>0</td>\n",
       "      <td>0</td>\n",
       "      <td>0</td>\n",
       "      <td>1</td>\n",
       "      <td>0</td>\n",
       "      <td>1</td>\n",
       "    </tr>\n",
       "    <tr>\n",
       "      <th>2</th>\n",
       "      <td>0</td>\n",
       "      <td>0</td>\n",
       "      <td>1</td>\n",
       "      <td>0</td>\n",
       "      <td>1</td>\n",
       "      <td>1</td>\n",
       "      <td>1</td>\n",
       "      <td>0</td>\n",
       "      <td>0</td>\n",
       "      <td>1</td>\n",
       "      <td>1</td>\n",
       "      <td>0</td>\n",
       "    </tr>\n",
       "  </tbody>\n",
       "</table>\n",
       "</div>"
      ],
      "text/plain": [
       "   close  friend  friendly  ggc  hws  likes  nice  sarah  student  students  \\\n",
       "0      1       1         0    1    0      0     0      1        1         0   \n",
       "1      0       0         0    1    1      0     0      0        0         1   \n",
       "2      0       0         1    0    1      1     1      0        0         1   \n",
       "\n",
       "   working  works  \n",
       "0        0      0  \n",
       "1        0      1  \n",
       "2        1      0  "
      ]
     },
     "execution_count": 84,
     "metadata": {},
     "output_type": "execute_result"
    }
   ],
   "source": [
    "df_matrix_SW"
   ]
  },
  {
   "cell_type": "markdown",
   "id": "cfd9750a",
   "metadata": {},
   "source": [
    "## Word Colud:\n",
    "Word cloud are graphical representations of word frequency that give greater prominence to words that appear more frequently in a source text.\n",
    "\n",
    "First start creating a wordcloud for just one line of text."
   ]
  },
  {
   "cell_type": "code",
   "execution_count": 85,
   "id": "b3f853cc",
   "metadata": {},
   "outputs": [
    {
     "data": {
      "text/plain": [
       "'Tokenization is 1 of the many tasks a Data Scientist do when cleaning & preparing data !'"
      ]
     },
     "execution_count": 85,
     "metadata": {},
     "output_type": "execute_result"
    }
   ],
   "source": [
    "text"
   ]
  },
  {
   "cell_type": "code",
   "execution_count": 86,
   "id": "770211d2",
   "metadata": {},
   "outputs": [
    {
     "name": "stdout",
     "output_type": "stream",
     "text": [
      "Requirement already satisfied: wordcloud in /Users/negar/opt/anaconda3/lib/python3.8/site-packages (1.6.0)\n",
      "Requirement already satisfied: numpy>=1.6.1 in /Users/negar/opt/anaconda3/lib/python3.8/site-packages (from wordcloud) (1.20.1)\n",
      "Requirement already satisfied: pillow in /Users/negar/opt/anaconda3/lib/python3.8/site-packages (from wordcloud) (8.2.0)\n",
      "Requirement already satisfied: matplotlib in /Users/negar/opt/anaconda3/lib/python3.8/site-packages (from wordcloud) (3.3.4)\n",
      "Requirement already satisfied: kiwisolver>=1.0.1 in /Users/negar/opt/anaconda3/lib/python3.8/site-packages (from matplotlib->wordcloud) (1.3.1)\n",
      "Requirement already satisfied: cycler>=0.10 in /Users/negar/opt/anaconda3/lib/python3.8/site-packages (from matplotlib->wordcloud) (0.10.0)\n",
      "Requirement already satisfied: python-dateutil>=2.1 in /Users/negar/opt/anaconda3/lib/python3.8/site-packages (from matplotlib->wordcloud) (2.8.1)\n",
      "Requirement already satisfied: pyparsing!=2.0.4,!=2.1.2,!=2.1.6,>=2.0.3 in /Users/negar/opt/anaconda3/lib/python3.8/site-packages (from matplotlib->wordcloud) (2.4.7)\n",
      "Requirement already satisfied: six in /Users/negar/opt/anaconda3/lib/python3.8/site-packages (from cycler>=0.10->matplotlib->wordcloud) (1.15.0)\n",
      "Note: you may need to restart the kernel to use updated packages.\n"
     ]
    }
   ],
   "source": [
    "pip install wordcloud"
   ]
  },
  {
   "cell_type": "code",
   "execution_count": 87,
   "id": "ce5552eb",
   "metadata": {},
   "outputs": [
    {
     "data": {
      "text/plain": [
       "<matplotlib.image.AxesImage at 0x7f8e64b63cd0>"
      ]
     },
     "execution_count": 87,
     "metadata": {},
     "output_type": "execute_result"
    },
    {
     "data": {
      "image/png": "[encoded data removed]",
      "text/plain": [
       "<Figure size 432x288 with 1 Axes>"
      ]
     },
     "metadata": {
      "needs_background": "light"
     },
     "output_type": "display_data"
    }
   ],
   "source": [
    "import matplotlib.pyplot as plt\n",
    "from wordcloud import WordCloud\n",
    "\n",
    "# Create and generate a word cloud image:\n",
    "wordcloud = WordCloud().generate(text)\n",
    "# Display the generated image:\n",
    "plt.imshow(wordcloud)"
   ]
  },
  {
   "cell_type": "markdown",
   "id": "82de9d72",
   "metadata": {},
   "source": [
    "You can change some optional arguments of the WordCloud like \"max_font_size\", \"max_word\", and \"background_color\". You can also change some optional arguments of the ply.imshow like \"interpolation\".\n"
   ]
  },
  {
   "cell_type": "code",
   "execution_count": 88,
   "id": "1985b8cc",
   "metadata": {},
   "outputs": [
    {
     "data": {
      "text/plain": [
       "(-0.5, 399.5, 199.5, -0.5)"
      ]
     },
     "execution_count": 88,
     "metadata": {},
     "output_type": "execute_result"
    },
    {
     "data": {
      "image/png": "[encoded data removed]",
      "text/plain": [
       "<Figure size 432x288 with 1 Axes>"
      ]
     },
     "metadata": {
      "needs_background": "light"
     },
     "output_type": "display_data"
    }
   ],
   "source": [
    "wordcloud = WordCloud(max_font_size=100, max_words=5, background_color=\"green\").generate(text)\n",
    "\n",
    "plt.imshow(wordcloud, interpolation='nearest')\n",
    "plt.axis(\"off\")"
   ]
  },
  {
   "cell_type": "markdown",
   "id": "e0a63dc8",
   "metadata": {},
   "source": [
    "Now we want to consider **all** of the words (tokens). i.e we want all of the follwing as single tokens."
   ]
  },
  {
   "cell_type": "code",
   "execution_count": 89,
   "id": "824f9d82",
   "metadata": {},
   "outputs": [
    {
     "data": {
      "text/plain": [
       "0           My close friend Sarah, is a student at GGC\n",
       "1      She works on her HWs with other students at GGC\n",
       "2    She is friendly & nice and she likes working o...\n",
       "Name: Col, dtype: object"
      ]
     },
     "execution_count": 89,
     "metadata": {},
     "output_type": "execute_result"
    }
   ],
   "source": [
    "df['Col']"
   ]
  },
  {
   "cell_type": "markdown",
   "id": "8f4cf40a",
   "metadata": {},
   "source": [
    "We concatinate these texts using '.cat()' built in function to get corpus (collection of texts)."
   ]
  },
  {
   "cell_type": "code",
   "execution_count": 90,
   "id": "e4895cdb",
   "metadata": {},
   "outputs": [
    {
     "data": {
      "text/plain": [
       "'My close friend Sarah, is a student at GGCShe works on her HWs with other students at GGCShe is friendly & nice and she likes working on her hws with other Students.'"
      ]
     },
     "execution_count": 90,
     "metadata": {},
     "output_type": "execute_result"
    }
   ],
   "source": [
    "alltext=df['Col'].str.cat(sep='')\n",
    "alltext"
   ]
  },
  {
   "cell_type": "code",
   "execution_count": 91,
   "id": "2debaed1",
   "metadata": {},
   "outputs": [
    {
     "data": {
      "text/plain": [
       "(-0.5, 399.5, 199.5, -0.5)"
      ]
     },
     "execution_count": 91,
     "metadata": {},
     "output_type": "execute_result"
    },
    {
     "data": {
      "image/png": "[encoded data removed]",
      "text/plain": [
       "<Figure size 432x288 with 1 Axes>"
      ]
     },
     "metadata": {
      "needs_background": "light"
     },
     "output_type": "display_data"
    }
   ],
   "source": [
    "# Create and generate a word cloud image:\n",
    "wordcloud = WordCloud(max_font_size=50, max_words=100, background_color=\"white\").generate(alltext)\n",
    "# Display the generated image:\n",
    "plt.imshow(wordcloud, interpolation='bilinear')\n",
    "plt.axis(\"off\")"
   ]
  },
  {
   "cell_type": "markdown",
   "id": "97653e15",
   "metadata": {},
   "source": [
    "The following saves your word cloud image as 'wordcloud.png' file in the same directory."
   ]
  },
  {
   "cell_type": "code",
   "execution_count": 92,
   "id": "70a8f3cc",
   "metadata": {},
   "outputs": [
    {
     "data": {
      "text/plain": [
       "<wordcloud.wordcloud.WordCloud at 0x7f8e64bc19d0>"
      ]
     },
     "execution_count": 92,
     "metadata": {},
     "output_type": "execute_result"
    }
   ],
   "source": [
    "wordcloud.to_file(\"wordcloud.png\")"
   ]
  },
  {
   "cell_type": "markdown",
   "id": "685577eb",
   "metadata": {},
   "source": [
    "# Machine Learning\n",
    "Machine Learning is the science of getting computers to learn. With Machine Learning, computers can learn to make decisions and predictions without being directly programmed to do so.\n",
    "\n",
    "\n",
    "## Build Machine Learning Models\n",
    "\n",
    "Machine Learning uses algorithms to build models.\n",
    "As these algorithms receive new data, they ‘learn’ to optimize their processes, meaning they improve performance and become more intelligent.\n",
    "\n",
    "Document term matrix (DTM) is fed to a machine learning model.\n",
    "\n",
    "Ground truth (answers/labels created by an expert) is used to train and test machine learning model\n"
   ]
  },
  {
   "cell_type": "markdown",
   "id": "c945694e",
   "metadata": {},
   "source": [
    "### Example machine learning:\n",
    "### Logistic Regression\n",
    "https://scikit-learn.org/stable/modules/generated/sklearn.linear_model.LogisticRegression.html"
   ]
  },
  {
   "cell_type": "code",
   "execution_count": null,
   "id": "cf0c302c",
   "metadata": {},
   "outputs": [],
   "source": []
  },
  {
   "cell_type": "code",
   "execution_count": null,
   "id": "5cab7446",
   "metadata": {},
   "outputs": [],
   "source": []
  }
 ],
 "metadata": {
  "kernelspec": {
   "display_name": "Python 3",
   "language": "python",
   "name": "python3"
  },
  "language_info": {
   "codemirror_mode": {
    "name": "ipython",
    "version": 3
   },
   "file_extension": ".py",
   "mimetype": "text/x-python",
   "name": "python",
   "nbconvert_exporter": "python",
   "pygments_lexer": "ipython3",
   "version": "3.8.8"
  }
 },
 "nbformat": 4,
 "nbformat_minor": 5
}
